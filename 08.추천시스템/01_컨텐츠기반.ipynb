{
 "cells": [
  {
   "cell_type": "markdown",
   "metadata": {},
   "source": [
    "## 컨텐츠 기반 필터링(Content-based Filtering)"
   ]
  },
  {
   "cell_type": "code",
   "execution_count": 18,
   "metadata": {},
   "outputs": [],
   "source": [
    "import numpy as np\n",
    "import pandas as pd"
   ]
  },
  {
   "cell_type": "code",
   "execution_count": 19,
   "metadata": {},
   "outputs": [
    {
     "data": {
      "text/html": [
       "<div>\n",
       "<style scoped>\n",
       "    .dataframe tbody tr th:only-of-type {\n",
       "        vertical-align: middle;\n",
       "    }\n",
       "\n",
       "    .dataframe tbody tr th {\n",
       "        vertical-align: top;\n",
       "    }\n",
       "\n",
       "    .dataframe thead th {\n",
       "        text-align: right;\n",
       "    }\n",
       "</style>\n",
       "<table border=\"1\" class=\"dataframe\">\n",
       "  <thead>\n",
       "    <tr style=\"text-align: right;\">\n",
       "      <th></th>\n",
       "      <th>user-id</th>\n",
       "      <th>movie-id</th>\n",
       "      <th>rating</th>\n",
       "      <th>timestamp</th>\n",
       "    </tr>\n",
       "  </thead>\n",
       "  <tbody>\n",
       "    <tr>\n",
       "      <th>0</th>\n",
       "      <td>196</td>\n",
       "      <td>242</td>\n",
       "      <td>3.0</td>\n",
       "      <td>881250949</td>\n",
       "    </tr>\n",
       "    <tr>\n",
       "      <th>1</th>\n",
       "      <td>186</td>\n",
       "      <td>302</td>\n",
       "      <td>3.0</td>\n",
       "      <td>891717742</td>\n",
       "    </tr>\n",
       "    <tr>\n",
       "      <th>2</th>\n",
       "      <td>22</td>\n",
       "      <td>377</td>\n",
       "      <td>1.0</td>\n",
       "      <td>878887116</td>\n",
       "    </tr>\n",
       "    <tr>\n",
       "      <th>3</th>\n",
       "      <td>244</td>\n",
       "      <td>51</td>\n",
       "      <td>2.0</td>\n",
       "      <td>880606923</td>\n",
       "    </tr>\n",
       "    <tr>\n",
       "      <th>4</th>\n",
       "      <td>166</td>\n",
       "      <td>346</td>\n",
       "      <td>1.0</td>\n",
       "      <td>886397596</td>\n",
       "    </tr>\n",
       "  </tbody>\n",
       "</table>\n",
       "</div>"
      ],
      "text/plain": [
       "  user-id movie-id  rating  timestamp\n",
       "0     196      242     3.0  881250949\n",
       "1     186      302     3.0  891717742\n",
       "2      22      377     1.0  878887116\n",
       "3     244       51     2.0  880606923\n",
       "4     166      346     1.0  886397596"
      ]
     },
     "execution_count": 19,
     "metadata": {},
     "output_type": "execute_result"
    }
   ],
   "source": [
    "from surprise import Dataset\n",
    "data = Dataset.load_builtin('ml-100k', prompt=False)\n",
    "df = pd.DataFrame(data.raw_ratings, columns=['user-id', 'movie-id', 'rating', 'timestamp'])\n",
    "df.head()"
   ]
  },
  {
   "cell_type": "code",
   "execution_count": 20,
   "metadata": {},
   "outputs": [
    {
     "data": {
      "text/plain": [
       "(100000, 4)"
      ]
     },
     "execution_count": 20,
     "metadata": {},
     "output_type": "execute_result"
    }
   ],
   "source": [
    "df.shape"
   ]
  },
  {
   "cell_type": "markdown",
   "metadata": {},
   "source": [
    "### 1. Adjacent Matrix 생성\n",
    "- 행은 사용자\n",
    "- 열은 영화\n",
    "- 내용은 평점"
   ]
  },
  {
   "cell_type": "code",
   "execution_count": 21,
   "metadata": {},
   "outputs": [
    {
     "data": {
      "text/plain": [
       "array([        1,         1,         1, 874724710])"
      ]
     },
     "execution_count": 21,
     "metadata": {},
     "output_type": "execute_result"
    }
   ],
   "source": [
    "raw_data = np.array(data.raw_ratings, dtype=int)\n",
    "np.min(raw_data, axis=0)"
   ]
  },
  {
   "cell_type": "code",
   "execution_count": 22,
   "metadata": {},
   "outputs": [
    {
     "data": {
      "text/plain": [
       "array([      943,      1682,         5, 893286638])"
      ]
     },
     "execution_count": 22,
     "metadata": {},
     "output_type": "execute_result"
    }
   ],
   "source": [
    "np.max(raw_data, axis=0)"
   ]
  },
  {
   "cell_type": "code",
   "execution_count": 23,
   "metadata": {},
   "outputs": [
    {
     "data": {
      "text/plain": [
       "array([[      195,       241,         3, 881250949],\n",
       "       [      185,       301,         3, 891717742],\n",
       "       [       21,       376,         1, 878887116],\n",
       "       ...,\n",
       "       [      275,      1089,         1, 874795795],\n",
       "       [       12,       224,         2, 882399156],\n",
       "       [       11,       202,         3, 879959583]])"
      ]
     },
     "execution_count": 23,
     "metadata": {},
     "output_type": "execute_result"
    }
   ],
   "source": [
    "# user-id, movie-id가 0부터 시작하도록 만들어 줌\n",
    "raw_data[:,:2] -= 1\n",
    "raw_data"
   ]
  },
  {
   "cell_type": "code",
   "execution_count": 24,
   "metadata": {},
   "outputs": [
    {
     "data": {
      "text/plain": [
       "(943, 1682)"
      ]
     },
     "execution_count": 24,
     "metadata": {},
     "output_type": "execute_result"
    }
   ],
   "source": [
    "# 행, 열의 개수\n",
    "nrows = df['user-id'].nunique()     # 행의 개수 = 사용자 수\n",
    "ncols = df['movie-id'].nunique()    # 열의 개수 = 영화 수\n",
    "nrows, ncols"
   ]
  },
  {
   "cell_type": "markdown",
   "metadata": {},
   "source": [
    "#### 1) 본 영화 / 안 본 영화 로만 구분, 0/1"
   ]
  },
  {
   "cell_type": "code",
   "execution_count": 25,
   "metadata": {},
   "outputs": [
    {
     "data": {
      "text/plain": [
       "array([[1, 1, 1, ..., 0, 0, 0],\n",
       "       [1, 0, 0, ..., 0, 0, 0],\n",
       "       [0, 0, 0, ..., 0, 0, 0],\n",
       "       [0, 0, 0, ..., 0, 0, 0],\n",
       "       [1, 1, 0, ..., 0, 0, 0]])"
      ]
     },
     "execution_count": 25,
     "metadata": {},
     "output_type": "execute_result"
    }
   ],
   "source": [
    "# 본 영화: 1/ 안 본 영화: 0\n",
    "adj_metrix = np.zeros([nrows, ncols], int)\n",
    "for user_id, movie_id, _, _ in raw_data:\n",
    "    adj_metrix[user_id, movie_id] = 1\n",
    "adj_metrix[:5]"
   ]
  },
  {
   "cell_type": "code",
   "execution_count": 26,
   "metadata": {},
   "outputs": [],
   "source": [
    "# 0번 데이터를 나라고 함\n",
    "my_id, my_vector = 0, adj_metrix[0]"
   ]
  },
  {
   "cell_type": "code",
   "execution_count": 27,
   "metadata": {},
   "outputs": [
    {
     "data": {
      "text/plain": [
       "(71, 42)"
      ]
     },
     "execution_count": 27,
     "metadata": {},
     "output_type": "execute_result"
    }
   ],
   "source": [
    "# 유사도 - 이진 벡터의 내적\n",
    "# 나와 10,20번 사용자와의 유사도\n",
    "np.dot(my_vector, adj_metrix[10]), np.dot(my_vector, adj_metrix[20])"
   ]
  },
  {
   "cell_type": "code",
   "execution_count": 28,
   "metadata": {},
   "outputs": [
    {
     "data": {
      "text/plain": [
       "(183, 275)"
      ]
     },
     "execution_count": 28,
     "metadata": {},
     "output_type": "execute_result"
    }
   ],
   "source": [
    "# 누가 나랑 닮았나?\n",
    "best_score = 0; best_match_id = 0\n",
    "\n",
    "for i in range(1, len(adj_metrix)):\n",
    "    dot = np.dot(my_vector, adj_metrix[i])\n",
    "    if dot > best_score:\n",
    "        best_score, best_match_id = dot, i\n",
    "best_score, best_match_id"
   ]
  },
  {
   "cell_type": "code",
   "execution_count": 29,
   "metadata": {},
   "outputs": [
    {
     "data": {
      "text/plain": [
       "(array([1, 1, 1, 1, 1, 1, 1, 1, 1, 1]), array([1, 0, 0, 1, 0, 0, 0, 1, 1, 0]))"
      ]
     },
     "execution_count": 29,
     "metadata": {},
     "output_type": "execute_result"
    }
   ],
   "source": [
    "best_vector = adj_metrix[best_match_id]\n",
    "my_vector[100:110], best_vector[100:110]"
   ]
  },
  {
   "cell_type": "code",
   "execution_count": 30,
   "metadata": {},
   "outputs": [
    {
     "data": {
      "text/plain": [
       "(335, [272, 273, 275, 280, 281, 283, 287, 288, 289, 290])"
      ]
     },
     "execution_count": 30,
     "metadata": {},
     "output_type": "execute_result"
    }
   ],
   "source": [
    "# 내가 보지 않은 영화중에서 best_match 사용자가 본 영화 --> 추천\n",
    "recommend_list = []\n",
    "for i, (my_view, best_match_view) in enumerate(zip(my_vector, best_vector)):\n",
    "    if my_view == 0 and best_match_view == 1:\n",
    "        recommend_list.append(i)\n",
    "\n",
    "len(recommend_list), recommend_list[:10]"
   ]
  },
  {
   "cell_type": "markdown",
   "metadata": {},
   "source": [
    "#### 2) 평점 점수를 주는 경우"
   ]
  },
  {
   "cell_type": "code",
   "execution_count": 31,
   "metadata": {},
   "outputs": [
    {
     "data": {
      "text/plain": [
       "array([[5, 3, 4, ..., 0, 0, 0],\n",
       "       [4, 0, 0, ..., 0, 0, 0],\n",
       "       [0, 0, 0, ..., 0, 0, 0],\n",
       "       [0, 0, 0, ..., 0, 0, 0],\n",
       "       [4, 3, 0, ..., 0, 0, 0]])"
      ]
     },
     "execution_count": 31,
     "metadata": {},
     "output_type": "execute_result"
    }
   ],
   "source": [
    "adj_metrix = np.zeros([nrows, ncols], int)\n",
    "for user_id, movie_id, rating, _ in raw_data:\n",
    "    adj_metrix[user_id, movie_id] = rating\n",
    "adj_metrix[:5]"
   ]
  },
  {
   "cell_type": "markdown",
   "metadata": {},
   "source": [
    "- Case 1: 유클리드 거리"
   ]
  },
  {
   "cell_type": "code",
   "execution_count": 32,
   "metadata": {},
   "outputs": [
    {
     "data": {
      "text/plain": [
       "(55.06359959174482, 737)"
      ]
     },
     "execution_count": 32,
     "metadata": {},
     "output_type": "execute_result"
    }
   ],
   "source": [
    "# 누가 나랑 닮았나?\n",
    "best_score, best_match_id = 100000, 0\n",
    "my_vector = adj_metrix[0]\n",
    "\n",
    "for i in range(1, len(adj_metrix)):\n",
    "    euc = np.sqrt(np.sum(np.square(my_vector - adj_metrix[i])))     # (np.square(my_vector - adj_metrix[i]))\n",
    "    if euc < best_score:\n",
    "        best_score, best_match_id = euc, i\n",
    "\n",
    "best_score, best_match_id"
   ]
  },
  {
   "cell_type": "code",
   "execution_count": 33,
   "metadata": {},
   "outputs": [
    {
     "data": {
      "text/plain": [
       "(48, [297, 312, 317, 342, 356, 366, 379, 384, 392, 402])"
      ]
     },
     "execution_count": 33,
     "metadata": {},
     "output_type": "execute_result"
    }
   ],
   "source": [
    "# 내가 보지 않은 영화 중에서 best_match 사용자가 본 영화 --> 추천\n",
    "best_vector = adj_metrix[best_match_id]\n",
    "recommend_list = []\n",
    "for i, (my_view, best_match_view) in enumerate(zip(my_vector, best_vector)):\n",
    "    if my_view == 0 and best_match_view >= 1:\n",
    "        recommend_list.append(i)\n",
    "\n",
    "len(recommend_list), recommend_list[:10]"
   ]
  },
  {
   "cell_type": "code",
   "execution_count": 36,
   "metadata": {},
   "outputs": [
    {
     "data": {
      "text/plain": [
       "(21, [312, 317, 356, 384, 407, 422, 433, 454, 469, 473])"
      ]
     },
     "execution_count": 36,
     "metadata": {},
     "output_type": "execute_result"
    }
   ],
   "source": [
    "# 내가 보지 않은 영화중에서 best_match 사용자가 본 평점이 좋은 영화 --> 추천\n",
    "best_vector = adj_metrix[best_match_id]\n",
    "recommend_list = []\n",
    "for i, (my_view, best_match_view) in enumerate(zip(my_vector, best_vector)):\n",
    "    if my_view == 0 and best_match_view >= 4:\n",
    "        recommend_list.append(i)\n",
    "\n",
    "len(recommend_list), recommend_list[:10]"
   ]
  },
  {
   "cell_type": "markdown",
   "metadata": {},
   "source": [
    "- Case 2: 코사인 유사도"
   ]
  },
  {
   "cell_type": "code",
   "execution_count": 37,
   "metadata": {},
   "outputs": [],
   "source": [
    "def cos_similarity(v1, v2):\n",
    "    v1_norm = np.sqrt(np.sum(np.square(v1)))\n",
    "    v2_norm = np.sqrt(np.sum(np.square(v2)))\n",
    "    return np.dot(v1, v2) / (v1_norm * v2_norm)"
   ]
  },
  {
   "cell_type": "code",
   "execution_count": 42,
   "metadata": {},
   "outputs": [
    {
     "data": {
      "text/plain": [
       "(0.569065731527988, 915)"
      ]
     },
     "execution_count": 42,
     "metadata": {},
     "output_type": "execute_result"
    }
   ],
   "source": [
    "# 누가 나랑 닮았나?\n",
    "best_score, best_match_id = -1, 0\n",
    "my_vector = adj_metrix[0]\n",
    "\n",
    "for i in range(1, len(adj_metrix)):\n",
    "    cos_sim = cos_similarity(my_vector, adj_metrix[i])\n",
    "    if cos_sim > best_score:\n",
    "        best_score, best_match_id = cos_sim, i\n",
    "\n",
    "best_score, best_match_id"
   ]
  },
  {
   "cell_type": "code",
   "execution_count": 43,
   "metadata": {},
   "outputs": [
    {
     "data": {
      "text/plain": [
       "(58, [275, 285, 316, 317, 381, 386, 420, 424, 426, 427])"
      ]
     },
     "execution_count": 43,
     "metadata": {},
     "output_type": "execute_result"
    }
   ],
   "source": [
    "# 내가 보지 않은 영화중에서 best_match 사용자가 본 평점이 좋은 영화 --> 추천\n",
    "best_vector = adj_metrix[best_match_id]\n",
    "recommend_list = []\n",
    "for i, (my_view, best_match_view) in enumerate(zip(my_vector, best_vector)):\n",
    "    if my_view == 0 and best_match_view >= 4:\n",
    "        recommend_list.append(i)\n",
    "\n",
    "len(recommend_list), recommend_list[:10]"
   ]
  },
  {
   "cell_type": "code",
   "execution_count": null,
   "metadata": {},
   "outputs": [],
   "source": []
  }
 ],
 "metadata": {
  "interpreter": {
   "hash": "becefdacc5f1c94720c81594b94a76de7b81d1f18fcb450ac2dbe2941d580a00"
  },
  "kernelspec": {
   "display_name": "Python 3.9.7 ('kdig')",
   "language": "python",
   "name": "python3"
  },
  "language_info": {
   "codemirror_mode": {
    "name": "ipython",
    "version": 3
   },
   "file_extension": ".py",
   "mimetype": "text/x-python",
   "name": "python",
   "nbconvert_exporter": "python",
   "pygments_lexer": "ipython3",
   "version": "3.9.7"
  },
  "orig_nbformat": 4
 },
 "nbformat": 4,
 "nbformat_minor": 2
}
