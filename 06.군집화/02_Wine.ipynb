{
 "cells": [
  {
   "cell_type": "markdown",
   "metadata": {},
   "source": [
    "## 군집화 - Wine data"
   ]
  },
  {
   "cell_type": "code",
   "execution_count": 1,
   "metadata": {},
   "outputs": [],
   "source": [
    "import numpy as np\n",
    "import pandas as pd\n",
    "import matplotlib.pyplot as plt"
   ]
  },
  {
   "cell_type": "code",
   "execution_count": 2,
   "metadata": {},
   "outputs": [],
   "source": [
    "from sklearn.datasets import load_wine\n",
    "from sklearn.preprocessing import StandardScaler\n",
    "from sklearn.decomposition import PCA"
   ]
  },
  {
   "cell_type": "code",
   "execution_count": 3,
   "metadata": {},
   "outputs": [],
   "source": [
    "wine = load_wine()\n",
    "wine_std = StandardScaler().fit_transform(wine.data)\n",
    "\n",
    "pca = PCA(n_components=2)\n",
    "wine_pca = pca.fit_transform(wine_std)"
   ]
  },
  {
   "cell_type": "markdown",
   "metadata": {},
   "source": [
    "- 군집화"
   ]
  },
  {
   "cell_type": "code",
   "execution_count": 4,
   "metadata": {},
   "outputs": [
    {
     "data": {
      "text/plain": [
       "KMeans(n_clusters=3, random_state=2022)"
      ]
     },
     "execution_count": 4,
     "metadata": {},
     "output_type": "execute_result"
    }
   ],
   "source": [
    "from sklearn.cluster import KMeans\n",
    "kmeans = KMeans(n_clusters=3, random_state=2022)\n",
    "kmeans.fit(wine_std)"
   ]
  },
  {
   "cell_type": "code",
   "execution_count": 6,
   "metadata": {},
   "outputs": [
    {
     "data": {
      "text/html": [
       "<div>\n",
       "<style scoped>\n",
       "    .dataframe tbody tr th:only-of-type {\n",
       "        vertical-align: middle;\n",
       "    }\n",
       "\n",
       "    .dataframe tbody tr th {\n",
       "        vertical-align: top;\n",
       "    }\n",
       "\n",
       "    .dataframe thead th {\n",
       "        text-align: right;\n",
       "    }\n",
       "</style>\n",
       "<table border=\"1\" class=\"dataframe\">\n",
       "  <thead>\n",
       "    <tr style=\"text-align: right;\">\n",
       "      <th></th>\n",
       "      <th>PC1</th>\n",
       "      <th>PC2</th>\n",
       "      <th>target</th>\n",
       "      <th>cluster</th>\n",
       "    </tr>\n",
       "  </thead>\n",
       "  <tbody>\n",
       "    <tr>\n",
       "      <th>0</th>\n",
       "      <td>3.316751</td>\n",
       "      <td>-1.443463</td>\n",
       "      <td>0</td>\n",
       "      <td>2</td>\n",
       "    </tr>\n",
       "    <tr>\n",
       "      <th>1</th>\n",
       "      <td>2.209465</td>\n",
       "      <td>0.333393</td>\n",
       "      <td>0</td>\n",
       "      <td>2</td>\n",
       "    </tr>\n",
       "    <tr>\n",
       "      <th>2</th>\n",
       "      <td>2.516740</td>\n",
       "      <td>-1.031151</td>\n",
       "      <td>0</td>\n",
       "      <td>2</td>\n",
       "    </tr>\n",
       "    <tr>\n",
       "      <th>3</th>\n",
       "      <td>3.757066</td>\n",
       "      <td>-2.756372</td>\n",
       "      <td>0</td>\n",
       "      <td>2</td>\n",
       "    </tr>\n",
       "    <tr>\n",
       "      <th>4</th>\n",
       "      <td>1.008908</td>\n",
       "      <td>-0.869831</td>\n",
       "      <td>0</td>\n",
       "      <td>2</td>\n",
       "    </tr>\n",
       "  </tbody>\n",
       "</table>\n",
       "</div>"
      ],
      "text/plain": [
       "        PC1       PC2  target  cluster\n",
       "0  3.316751 -1.443463       0        2\n",
       "1  2.209465  0.333393       0        2\n",
       "2  2.516740 -1.031151       0        2\n",
       "3  3.757066 -2.756372       0        2\n",
       "4  1.008908 -0.869831       0        2"
      ]
     },
     "execution_count": 6,
     "metadata": {},
     "output_type": "execute_result"
    }
   ],
   "source": [
    "df = pd.DataFrame({\n",
    "    'PC1': wine_pca[:,0], 'PC2': wine_pca[:,1],\n",
    "    'target': wine.target, 'cluster': kmeans.labels_\n",
    "})\n",
    "df.head()"
   ]
  },
  {
   "cell_type": "code",
   "execution_count": 7,
   "metadata": {},
   "outputs": [
    {
     "data": {
      "text/plain": [
       "array([[ 0.16490746,  0.87154706,  0.18689833,  0.52436746, -0.07547277,\n",
       "        -0.97933029, -1.21524764,  0.72606354, -0.77970639,  0.94153874,\n",
       "        -1.16478865, -1.29241163, -0.40708796],\n",
       "       [-0.92607185, -0.39404154, -0.49451676,  0.17060184, -0.49171185,\n",
       "        -0.07598265,  0.02081257, -0.03353357,  0.0582655 , -0.90191402,\n",
       "         0.46180361,  0.27076419, -0.75384618],\n",
       "       [ 0.83523208, -0.30380968,  0.36470604, -0.61019129,  0.5775868 ,\n",
       "         0.88523736,  0.97781956, -0.56208965,  0.58028658,  0.17106348,\n",
       "         0.47398365,  0.77924711,  1.12518529]])"
      ]
     },
     "execution_count": 7,
     "metadata": {},
     "output_type": "execute_result"
    }
   ],
   "source": [
    "kmeans.cluster_centers_"
   ]
  },
  {
   "cell_type": "markdown",
   "metadata": {},
   "source": [
    "- 데이터 시각화"
   ]
  },
  {
   "cell_type": "code",
   "execution_count": 9,
   "metadata": {},
   "outputs": [
    {
     "data": {
      "image/png": "[encoded data removed]",
      "text/plain": [
       "<Figure size 864x288 with 2 Axes>"
      ]
     },
     "metadata": {
      "needs_background": "light"
     },
     "output_type": "display_data"
    }
   ],
   "source": [
    "markers = ['^','s','o']\n",
    "\n",
    "plt.figure(figsize=(12,4))\n",
    "for k, column in enumerate(['target','cluster']):\n",
    "    plt.subplot(1, 2, k+1)\n",
    "    for i, marker in enumerate(markers):\n",
    "        x_data = df[df[column] == i]['PC1']\n",
    "        y_data = df[df[column] == i]['PC2']\n",
    "        if k == 0:\n",
    "            plt.title('Original data', fontsize=15)\n",
    "            plt.scatter(x_data, y_data, marker=marker, label=wine.target_names[i])\n",
    "        else:\n",
    "            plt.title('Cluster data', fontsize=15)\n",
    "            plt.scatter(x_data, y_data, marker=marker, label='cluster'+str(i))\n",
    "            plt.scatter(x_data.mean(), y_data.mean(), marker='*', c='black', s=100)\n",
    "\n",
    "    plt.legend()\n",
    "    plt.xlabel('PCA Component 1'), plt.ylabel('PCA Component 2')\n",
    "plt.show()"
   ]
  },
  {
   "cell_type": "code",
   "execution_count": null,
   "metadata": {},
   "outputs": [],
   "source": []
  }
 ],
 "metadata": {
  "interpreter": {
   "hash": "becefdacc5f1c94720c81594b94a76de7b81d1f18fcb450ac2dbe2941d580a00"
  },
  "kernelspec": {
   "display_name": "Python 3.9.7 ('kdig')",
   "language": "python",
   "name": "python3"
  },
  "language_info": {
   "codemirror_mode": {
    "name": "ipython",
    "version": 3
   },
   "file_extension": ".py",
   "mimetype": "text/x-python",
   "name": "python",
   "nbconvert_exporter": "python",
   "pygments_lexer": "ipython3",
   "version": "3.9.7"
  },
  "orig_nbformat": 4
 },
 "nbformat": 4,
 "nbformat_minor": 2
}
